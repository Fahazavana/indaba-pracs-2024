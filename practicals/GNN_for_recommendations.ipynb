{
 "cells": [
  {
   "cell_type": "markdown",
   "metadata": {},
   "source": [
    "## **1. Building Recommender Systems using Graph Neural Networks (GNNs)**\n",
    "\n",
    "This tutorial builds upon the knowledge gained from the Graph Neural Networks and Recommender Systems tutorials. In this section, we will show how to leverage Graph Neural Networks in recommender systems.\n",
    "\n",
    "**Prerequisites:**\n",
    "\n",
    "- Familiarity with JAX, especially Flax and Jraph\n",
    "- A solid grasp of neural network fundamentals\n",
    "- Completion of the Graph Neural Networks (GNNs) tutorial\n",
    "- Completion of the Recommender Systems tutorial\n",
    "\n",
    "**Aims/Learning Objectives:**\n",
    "- Frame link prediction tasks within the context of movie recommendations\n",
    "- Implement a Graph Convolutional Network (GCN) for movie recommendations\n"
   ]
  },
  {
   "cell_type": "markdown",
   "metadata": {},
   "source": [
    "### 1.1 Introduction\n",
    "\n",
    "Graphs are a powerful and versatile representation of data with a wide range of applications. While most people are familiar with their use in contexts such as social networks and biological systems, graphs also have been used in recommender systems, which is the focus of this tutorial."
   ]
  },
  {
   "cell_type": "markdown",
   "metadata": {},
   "source": [
    "### **1.2. Graph Prediction Tasks**\n",
    "\n",
    "As demonstrated in the GNN tutorial there are three graph tasks in the context of graph neural networks:\n",
    "\n",
    "1. **Node Classification**: E.g. what is the topic of a paper given a citation network of papers?\n",
    "2. **Link Prediction / Edge Classification**: E.g. are two people in a social network friends?\n",
    "3. **Graph Classification**: E.g. is this protein molecule (represented as a graph) likely going to be effective?\n",
    "\n",
    "<image src=\"https://storage.googleapis.com/dm-educational/assets/graph-nets/graph_tasks.png\" width=\"700px\">\n",
    "\n",
    "*Image source: Petar Veličković.*\n"
   ]
  },
  {
   "cell_type": "markdown",
   "metadata": {},
   "source": [
    "### **1.3. Recommender Systems as a Link Prediction Problem**\n",
    "\n",
    "A recommender system can be visualized as a graph, where entities (such as users and items) are nodes, and the interactions between them (such as ratings or purchase history) are edges. In the context of a movie recommendation system:\n",
    "\n",
    "- Nodes represent:\n",
    "  - Users: Individuals consuming the content\n",
    "  - Movies: Content items to be recommended\n",
    "\n",
    "- Edges represent:\n",
    "  - Ratings: Directed edges from users to movies, weighted to indicate the rating (e.g., on a scale of 1 to 5)"
   ]
  },
  {
   "cell_type": "markdown",
   "metadata": {},
   "source": [
    "#### 1.3.1. Link (or Edge) Prediction\n",
    "\n",
    "Link prediction aims to determine whether a link (or edge) should exist between two nodes, even if it's currently absent. In our movie recommendation system, this translates to predicting whether a user would like (or dislike) a movie they haven't yet rated.\n",
    "\n",
    "The process works as follows:\n",
    "\n",
    "1. Train on existing edges: Use known ratings (edges) from users to movies to train a model.\n",
    "2. Predict missing edges: For a given user, predict ratings for movies they haven't seen or rated. This is equivalent to predicting missing or potential edges in our graph.\n",
    "3. Recommend based on predictions: Suggest movies with the highest predicted ratings to the user.\n",
    "\n",
    "In this section of the tutorial, we will leverage Graph Neural Networks (GNNs) for this link prediction task. GNNs operate on the graph, aggregating information from neighboring nodes to produce accurate predictions for unseen edges.\n",
    "\n",
    "The figure below showcases a user-item sub-knowledge graph. Each icon represents an entity/user or concept, and the connecting lines (edges) symbolize the relationships between them."
   ]
  },
  {
   "cell_type": "markdown",
   "metadata": {},
   "source": [
    "![Description](graph_rc.png)\n",
    "\n",
    "*Image source: [HI2Rec: Exploring Knowledge in Heterogeneous Information for Movie Recommendation](https://www.semanticscholar.org/paper/HI2Rec%3A-Exploring-Knowledge-in-Heterogeneous-for-He-Wang/038eb4e6839352c8fa8f9c4f5ae5ff958e14c5a3)*"
   ]
  },
  {
   "cell_type": "markdown",
   "metadata": {},
   "source": [
    "### **1.4. Setup and Installation**\n",
    "\n",
    "Before we begin, let's install the necessary libraries. We'll be using `jraph`, a library for working with graph neural networks in JAX.\n",
    "\n",
    "Run the following cell to install `jraph`:"
   ]
  },
  {
   "cell_type": "code",
   "execution_count": null,
   "metadata": {},
   "outputs": [],
   "source": [
    "#@title Installations\n",
    "%%capture\n",
    "!pip install git+https://github.com/deepmind/jraph.git"
   ]
  },
  {
   "cell_type": "markdown",
   "metadata": {},
   "source": [
    "### **1.4.1. Import Required Libraries**\n",
    "\n",
    "In this section, we'll import all the necessary libraries for our GNN-based recommender system. We'll also set a random seed for reproducibility.\n",
    "Run the following cell to import the required packages:"
   ]
  },
  {
   "cell_type": "code",
   "execution_count": 1,
   "metadata": {},
   "outputs": [
    {
     "data": {
      "text/plain": [
       "<torch._C.Generator at 0x1572c51b0>"
      ]
     },
     "execution_count": 1,
     "metadata": {},
     "output_type": "execute_result"
    }
   ],
   "source": [
    "# @title Import required packages. \n",
    "\n",
    "import jax\n",
    "import jraph\n",
    "import optax\n",
    "import torch\n",
    "import numpy as np\n",
    "import pandas as pd\n",
    "import tensorflow as tf\n",
    "from flax import linen as nn\n",
    "from jax import numpy as jnp\n",
    "import jax.tree_util as tree\n",
    "import matplotlib.pyplot as plt\n",
    "import tensorflow_datasets as tfds\n",
    "from jraph import GraphConvolution\n",
    "from flax.training import train_state\n",
    "from typing import Mapping, Sequence, Tuple, Callable\n",
    "\n",
    "SEED = 42\n",
    "np.random.seed(SEED)\n",
    "torch.manual_seed(SEED)"
   ]
  },
  {
   "cell_type": "markdown",
   "metadata": {},
   "source": [
    "### **1.5 Data**\n",
    "\n",
    "In this section, we'll load two versions of the MovieLens dataset:\n",
    "1. Original MovieLens Data\n",
    "2. Graph Version of MovieLens Data\n"
   ]
  },
  {
   "cell_type": "code",
   "execution_count": 2,
   "metadata": {},
   "outputs": [],
   "source": [
    "#@title Download data\n",
    "\n",
    "#@title Load movielens dataset function\n",
    "def load_movielens_dataframes():\n",
    "    \"\"\"\n",
    "    Load the movielens/100k-ratings and movielens/100k-movies datasets from TFDS.\n",
    "\n",
    "    Returns:\n",
    "        ratings_df (pd.DataFrame): DataFrame containing the user ratings data.\n",
    "        movies_df (pd.DataFrame): DataFrame containing the movie details.\n",
    "\n",
    "    Example:\n",
    "        ratings_df, movies_df = load_movielens_dataframes()\n",
    "    \"\"\"\n",
    "\n",
    "    # Load the data\n",
    "    ratings = tfds.load('movielens/100k-ratings', split=\"train\", download=True)\n",
    "    movies = tfds.load('movielens/100k-movies', split=\"train\", download=True)\n",
    "\n",
    "    # Convert ratings data to DataFrame\n",
    "    ratings_records = [{\n",
    "        'user_id': example['user_id'].numpy().decode('utf-8'),\n",
    "        'movie_id': example['movie_id'].numpy().decode('utf-8'),\n",
    "        'user_rating': example['user_rating'].numpy()\n",
    "    } for example in ratings]\n",
    "    ratings_df = pd.DataFrame(ratings_records)\n",
    "\n",
    "    # Convert movies data to DataFrame\n",
    "    movies_records = [{\n",
    "        'movie_title': example['movie_title'].numpy().decode('utf-8'),\n",
    "        'movie_id': example['movie_id'].numpy().decode('utf-8'),\n",
    "        'movie_genres': list(example['movie_genres'].numpy()) # already encoded (e.g., 1 might correspond to \"Action\", 2 to \"Comedy\", and so forth)\n",
    "    } for example in movies]\n",
    "    movies_df = pd.DataFrame(movies_records)\n",
    "\n",
    "    return ratings_df, movies_df"
   ]
  },
  {
   "cell_type": "markdown",
   "metadata": {},
   "source": [
    "The `load_movielens_dataframes()` loads the MovieLens 100K dataset using TensorFlow Datasets (TFDS). This function returns two DataFrames:\n",
    "\n",
    "- `ratings_df`: Contains columns for `user_id`, `movie_id`, and `user_rating`\n",
    "- `movies_df`: Contains columns for `movie_id`, `movie_title`, and `movie_genres`\n",
    "\n",
    "This data is primarily loaded used for inference and to provide additional context about movies when making recommendations."
   ]
  },
  {
   "cell_type": "code",
   "execution_count": 3,
   "metadata": {},
   "outputs": [],
   "source": [
    "# load movielens data as pandas dataframe\n",
    "ratings_df, movies_df = load_movielens_dataframes()"
   ]
  },
  {
   "cell_type": "code",
   "execution_count": 4,
   "metadata": {},
   "outputs": [
    {
     "data": {
      "text/html": [
       "<div>\n",
       "<style scoped>\n",
       "    .dataframe tbody tr th:only-of-type {\n",
       "        vertical-align: middle;\n",
       "    }\n",
       "\n",
       "    .dataframe tbody tr th {\n",
       "        vertical-align: top;\n",
       "    }\n",
       "\n",
       "    .dataframe thead th {\n",
       "        text-align: right;\n",
       "    }\n",
       "</style>\n",
       "<table border=\"1\" class=\"dataframe\">\n",
       "  <thead>\n",
       "    <tr style=\"text-align: right;\">\n",
       "      <th></th>\n",
       "      <th>movie_title</th>\n",
       "      <th>movie_id</th>\n",
       "      <th>movie_genres</th>\n",
       "    </tr>\n",
       "  </thead>\n",
       "  <tbody>\n",
       "    <tr>\n",
       "      <th>0</th>\n",
       "      <td>You So Crazy (1994)</td>\n",
       "      <td>1681</td>\n",
       "      <td>[4]</td>\n",
       "    </tr>\n",
       "    <tr>\n",
       "      <th>1</th>\n",
       "      <td>Love Is All There Is (1996)</td>\n",
       "      <td>1457</td>\n",
       "      <td>[4, 7]</td>\n",
       "    </tr>\n",
       "    <tr>\n",
       "      <th>2</th>\n",
       "      <td>Fly Away Home (1996)</td>\n",
       "      <td>500</td>\n",
       "      <td>[1, 3]</td>\n",
       "    </tr>\n",
       "    <tr>\n",
       "      <th>3</th>\n",
       "      <td>In the Line of Duty 2 (1987)</td>\n",
       "      <td>838</td>\n",
       "      <td>[0]</td>\n",
       "    </tr>\n",
       "    <tr>\n",
       "      <th>4</th>\n",
       "      <td>Niagara, Niagara (1997)</td>\n",
       "      <td>1648</td>\n",
       "      <td>[7]</td>\n",
       "    </tr>\n",
       "  </tbody>\n",
       "</table>\n",
       "</div>"
      ],
      "text/plain": [
       "                    movie_title movie_id movie_genres\n",
       "0           You So Crazy (1994)     1681          [4]\n",
       "1   Love Is All There Is (1996)     1457       [4, 7]\n",
       "2          Fly Away Home (1996)      500       [1, 3]\n",
       "3  In the Line of Duty 2 (1987)      838          [0]\n",
       "4       Niagara, Niagara (1997)     1648          [7]"
      ]
     },
     "execution_count": 4,
     "metadata": {},
     "output_type": "execute_result"
    }
   ],
   "source": [
    "movies_df.head()"
   ]
  },
  {
   "cell_type": "code",
   "execution_count": 5,
   "metadata": {},
   "outputs": [
    {
     "data": {
      "text/html": [
       "<div>\n",
       "<style scoped>\n",
       "    .dataframe tbody tr th:only-of-type {\n",
       "        vertical-align: middle;\n",
       "    }\n",
       "\n",
       "    .dataframe tbody tr th {\n",
       "        vertical-align: top;\n",
       "    }\n",
       "\n",
       "    .dataframe thead th {\n",
       "        text-align: right;\n",
       "    }\n",
       "</style>\n",
       "<table border=\"1\" class=\"dataframe\">\n",
       "  <thead>\n",
       "    <tr style=\"text-align: right;\">\n",
       "      <th></th>\n",
       "      <th>user_id</th>\n",
       "      <th>movie_id</th>\n",
       "      <th>user_rating</th>\n",
       "    </tr>\n",
       "  </thead>\n",
       "  <tbody>\n",
       "    <tr>\n",
       "      <th>0</th>\n",
       "      <td>138</td>\n",
       "      <td>357</td>\n",
       "      <td>4.0</td>\n",
       "    </tr>\n",
       "    <tr>\n",
       "      <th>1</th>\n",
       "      <td>92</td>\n",
       "      <td>709</td>\n",
       "      <td>2.0</td>\n",
       "    </tr>\n",
       "    <tr>\n",
       "      <th>2</th>\n",
       "      <td>301</td>\n",
       "      <td>412</td>\n",
       "      <td>4.0</td>\n",
       "    </tr>\n",
       "    <tr>\n",
       "      <th>3</th>\n",
       "      <td>60</td>\n",
       "      <td>56</td>\n",
       "      <td>4.0</td>\n",
       "    </tr>\n",
       "    <tr>\n",
       "      <th>4</th>\n",
       "      <td>197</td>\n",
       "      <td>895</td>\n",
       "      <td>3.0</td>\n",
       "    </tr>\n",
       "  </tbody>\n",
       "</table>\n",
       "</div>"
      ],
      "text/plain": [
       "  user_id movie_id  user_rating\n",
       "0     138      357          4.0\n",
       "1      92      709          2.0\n",
       "2     301      412          4.0\n",
       "3      60       56          4.0\n",
       "4     197      895          3.0"
      ]
     },
     "execution_count": 5,
     "metadata": {},
     "output_type": "execute_result"
    }
   ],
   "source": [
    "ratings_df.head()"
   ]
  },
  {
   "cell_type": "code",
   "execution_count": 7,
   "metadata": {},
   "outputs": [
    {
     "name": "stdout",
     "output_type": "stream",
     "text": [
      "number of unique movies:  1682\n",
      "number of unique users:  943\n"
     ]
    }
   ],
   "source": [
    "print('number of unique movies: ', len(ratings_df.movie_id.unique()))\n",
    "print('number of unique users: ', len(ratings_df.user_id.unique()))"
   ]
  },
  {
   "cell_type": "markdown",
   "metadata": {},
   "source": [
    "Next, we load a pre-processed graph version of the MovieLens data from a PyTorch Geometric Data object saved as 'data.pt'. \n",
    "\n",
    "This graph representation is prepared for use with our GNN model and will be the primary data structure used during model training. If you are interested in how we transformed the original MovieLens data into a graph format, please refer to this [tutorial](link). Note that unlike the previous tutorial, where user node features were randomly generated from an embedding matrix, in this tutorial we will use learnable feature embeddings for each user.\n",
    "\n"
   ]
  },
  {
   "cell_type": "code",
   "execution_count": 8,
   "metadata": {},
   "outputs": [
    {
     "data": {
      "text/plain": [
       "['num_users',\n",
       " 'test_mask',\n",
       " 'x',\n",
       " 'user_mapping',\n",
       " 'movie_mapping',\n",
       " 'val_mask',\n",
       " 'train_mask',\n",
       " 'edge_attr',\n",
       " 'edge_index']"
      ]
     },
     "execution_count": 8,
     "metadata": {},
     "output_type": "execute_result"
    }
   ],
   "source": [
    "#@title Load graph data\n",
    "\n",
    "data = torch.load(f\"data.pt\")\n",
    "data.keys"
   ]
  },
  {
   "cell_type": "markdown",
   "metadata": {},
   "source": [
    "The data Object contains the following attributes:\n",
    "\n",
    "\n",
    "- `num_users`: The total number of unique users in the dataset.\n",
    "- `x`: Node features matrix where each row represents a node (user or movie) and columns are feature values.\n",
    "- `user_mapping`: A mapping from user IDs to their corresponding node indices in the graph.\n",
    "- `movie_mapping`: A mapping from movie IDs to their corresponding node indices in the graph.\n",
    "- `val_mask`: A boolean mask used to select the subset of data (edges) for validation.\n",
    "- `train_mask`: A boolean mask used to select the subset of data (edges) for training.\n",
    "- `test_mask`: A boolean mask used to select the subset of data (edges) for testing.\n",
    "- `edge_attr`: edge features, in our case our this corresponds to the rating provided by the user to the movie (i.e. user rating). \n",
    "- `edge_index`: A list of tuples indicating the start and end nodes of each edge, defining the graph structure.\n"
   ]
  },
  {
   "cell_type": "markdown",
   "metadata": {},
   "source": [
    "In the node features (`x`), the node features correspond to user are initialized to zeros and would be replaced in the model with a learnable embedding features. The movie node features are one hot encoding of the movie genres. We could also add movie title as node part of the node features, but for simplicity in this tutorial we use one hot encoding of movie genres. "
   ]
  },
  {
   "cell_type": "code",
   "execution_count": 9,
   "metadata": {},
   "outputs": [],
   "source": [
    "# A helper function to convert our graph data into jraph.GraphsTuple\n",
    "\n",
    "def convert_to_jraph(data):\n",
    "    \"\"\" Convert the Pytorch Data Object \"\"\"\n",
    "    graph = jraph.GraphsTuple(\n",
    "        nodes=np.array(data.x),\n",
    "        edges=np.array(data.edge_attr),\n",
    "        n_node=np.array([data.num_nodes]),\n",
    "        n_edge=np.array([data.num_edges]),\n",
    "        senders=np.array(data.edge_index[0]),  # users are source\n",
    "        receivers=np.array(data.edge_index[1]),  # movies are recievers\n",
    "        globals={\"num_users\": data.num_users},\n",
    "    )\n",
    "    train_mask, val_mask, test_mask = np.array(data.train_mask), np.array(data.val_mask), np.array(data.test_mask)\n",
    "    return graph, train_mask, val_mask, test_mask"
   ]
  },
  {
   "cell_type": "code",
   "execution_count": 11,
   "metadata": {},
   "outputs": [
    {
     "data": {
      "text/plain": [
       "GraphsTuple(nodes=array([[0., 0., 0., ..., 0., 0., 0.],\n",
       "       [0., 0., 0., ..., 0., 0., 0.],\n",
       "       [0., 0., 0., ..., 0., 0., 0.],\n",
       "       ...,\n",
       "       [0., 0., 0., ..., 0., 0., 0.],\n",
       "       [0., 0., 0., ..., 0., 0., 0.],\n",
       "       [0., 0., 0., ..., 0., 1., 0.]], dtype=float32), edges=array([[4.],\n",
       "       [2.],\n",
       "       [4.],\n",
       "       ...,\n",
       "       [1.],\n",
       "       [4.],\n",
       "       [2.]], dtype=float32), receivers=array([ 943,  944,  945, ..., 1851, 1000, 2032]), senders=array([  0,   1,   2, ..., 174, 389,  16]), globals={'num_users': 943}, n_node=array([2625]), n_edge=array([100000]))"
      ]
     },
     "execution_count": 11,
     "metadata": {},
     "output_type": "execute_result"
    }
   ],
   "source": [
    "#@title Convert the graph to jraph.GraphsTuple\n",
    "\n",
    "graph, train_mask, val_mask, test_mask = convert_to_jraph(data=data)\n",
    "graph"
   ]
  },
  {
   "cell_type": "markdown",
   "metadata": {},
   "source": [
    "We will use graph convolution neural network (GCN) as our model. For more in-depth understanding of GCN, please go throught the above provided resources in your free time."
   ]
  },
  {
   "cell_type": "code",
   "execution_count": 12,
   "metadata": {},
   "outputs": [],
   "source": [
    "#@title Model\n",
    "class MLP(nn.Module):\n",
    "  \"\"\"A flax MLP.\"\"\"\n",
    "  features: Sequence[int]\n",
    "  kernel_init: Callable = jax.nn.initializers.he_uniform()\n",
    "  bias_init: Callable = jax.nn.initializers.zeros\n",
    "\n",
    "  @nn.compact\n",
    "  def __call__(self, inputs):\n",
    "    x = inputs\n",
    "    for i, feat in enumerate(self.features):\n",
    "        lyr = nn.Dense(feat, kernel_init=self.kernel_init, bias_init=self.bias_init, name=f\"mlp_dense_{i}\")\n",
    "        x = lyr(x)\n",
    "        x = nn.relu(x)\n",
    "        if i != len(self.features) - 1:\n",
    "            x = nn.relu(x)\n",
    "    return x\n",
    "\n",
    "\n",
    "class GraphConvLayer(nn.Module):\n",
    "    output_decoder_dim: int\n",
    "    num_user_nodes: int\n",
    "    update_node_fn: Callable\n",
    "    aggregate_nodes_fn: Callable = jax.ops.segment_sum\n",
    "    add_self_edges: bool = False\n",
    "    symmetric_normalization: bool = True\n",
    "    layer_norm: bool = False\n",
    "\n",
    "    @nn.compact\n",
    "    def __call__(self, graph):\n",
    "        # Embed the user features\n",
    "        user_indices = jnp.arange(self.num_user_nodes)\n",
    "        emb = nn.Embed(self.num_user_nodes, graph.nodes.shape[1])\n",
    "        user_embeddings = emb(user_indices)\n",
    "\n",
    "        # graph.nodes should be structured such that user nodes come first, followed by movie nodes\n",
    "        new_node_embedding = jnp.concatenate([user_embeddings, graph.nodes[self.num_user_nodes:]], axis=0)\n",
    "        graph = graph._replace(nodes=new_node_embedding)\n",
    "\n",
    "        gcn = GraphConvolution(\n",
    "            update_node_fn=self.update_node_fn,\n",
    "            aggregate_nodes_fn=self.aggregate_nodes_fn,\n",
    "            add_self_edges=self.add_self_edges,\n",
    "            symmetric_normalization=self.symmetric_normalization\n",
    "        )\n",
    "        graph = gcn(graph)\n",
    "        if self.layer_norm:\n",
    "            # Apply layer normalization to the node embeddings\n",
    "            normalized_nodes = nn.LayerNorm()(graph.nodes)\n",
    "            # Update the graph with the normalized node embeddings\n",
    "            graph = graph._replace(nodes=normalized_nodes)\n",
    "\n",
    "        edge_predictions = jnp.sum(graph.nodes[graph.senders] * graph.nodes[graph.receivers], axis=-1)\n",
    "        edge_predictions = jnp.expand_dims(edge_predictions, axis=1)\n",
    "        edge_predictions = nn.Dense(self.output_decoder_dim, name=\"mlp_dense_output\")(edge_predictions)\n",
    "\n",
    "        # Apply sigmoid activation and scale it\n",
    "        edge_predictions = 4 * jax.nn.sigmoid(edge_predictions) + 1\n",
    "        return edge_predictions"
   ]
  },
  {
   "cell_type": "code",
   "execution_count": 13,
   "metadata": {},
   "outputs": [
    {
     "data": {
      "text/plain": [
       "((100000, 1), (100000, 1))"
      ]
     },
     "execution_count": 13,
     "metadata": {},
     "output_type": "execute_result"
    }
   ],
   "source": [
    "# Define one layer gcn\n",
    "gcn_layer = GraphConvLayer(\n",
    "    output_decoder_dim = 1,\n",
    "    update_node_fn=lambda n: MLP(features=[64, 64])(n),\n",
    "    aggregate_nodes_fn=jax.ops.segment_sum,\n",
    "    add_self_edges=False,\n",
    "    symmetric_normalization=True,\n",
    "    num_user_nodes=graph.globals['num_users'],\n",
    ")\n",
    "\n",
    "# Initialize to see the output shapes\n",
    "params = gcn_layer.init(jax.random.PRNGKey(42), graph)\n",
    "output = gcn_layer.apply(params, graph)\n",
    "output.shape, graph.edges.shape"
   ]
  },
  {
   "cell_type": "code",
   "execution_count": 14,
   "metadata": {},
   "outputs": [
    {
     "data": {
      "text/plain": [
       "Array(0.40164998, dtype=float32)"
      ]
     },
     "execution_count": 14,
     "metadata": {},
     "output_type": "execute_result"
    }
   ],
   "source": [
    "# Define loss function\n",
    "def l1_loss(logits: np.ndarray, y: np.ndarray, mask: np.array, reduction: str = \"mean\") -> np.ndarray:\n",
    "    \"\"\"Implementation of l1_loss.\n",
    "\n",
    "    Args:\n",
    "        logits: model output logits.\n",
    "        y: class labels.\n",
    "        reduction: if reduction is mean, the average is returned, else if it is sum, the sum is returned.\n",
    "\n",
    "    Returns:\n",
    "       l1 loss.\n",
    "    \"\"\"\n",
    "    logits_masked = logits * mask.astype(int)\n",
    "    preds_masked = y * mask.astype(int)\n",
    "    if reduction == \"mean\":\n",
    "        loss = jnp.mean(jnp.abs(logits_masked - preds_masked))\n",
    "    if reduction == \"sum\":\n",
    "        loss = jnp.sum(jnp.abs(logits_masked - preds_masked))\n",
    "\n",
    "    return loss\n",
    "\n",
    "# check random loss without training\n",
    "l1_loss(output, graph.edges, mask=val_mask)"
   ]
  },
  {
   "cell_type": "code",
   "execution_count": 15,
   "metadata": {},
   "outputs": [],
   "source": [
    "#@title Define flax train state\n",
    "def create_train_state(\n",
    "    model, graph, tx, rngs\n",
    "):\n",
    "    \"\"\"Train state. This function initializes the model.\"\"\"\n",
    "\n",
    "    @jax.jit\n",
    "    def initialize(params_rng):\n",
    "        variables = model.init(\n",
    "            params_rng,\n",
    "            graph,\n",
    "        )\n",
    "        return variables\n",
    "\n",
    "    variables = initialize(rngs)\n",
    "    state = train_state.TrainState.create(apply_fn=model.apply, params=variables[\"params\"], tx=tx)\n",
    "\n",
    "    param_count = sum(x.size for x in jax.tree_util.tree_leaves(state.params))\n",
    "    print(\"---> number of model parameters: \", param_count)\n",
    "    return state"
   ]
  },
  {
   "cell_type": "code",
   "execution_count": 16,
   "metadata": {},
   "outputs": [
    {
     "name": "stdout",
     "output_type": "stream",
     "text": [
      "---> number of model parameters:  45375\n"
     ]
    }
   ],
   "source": [
    "# Initialize model, train state, and other hparams\n",
    "optimizer = optax.adam(learning_rate=0.001)\n",
    "rng = jax.random.PRNGKey(0)\n",
    "rng, init_rng = jax.random.split(rng)\n",
    "rngs = {\"params\": rng, \"dropout\": init_rng}\n",
    "\n",
    "model = GraphConvLayer(\n",
    "    output_decoder_dim = 1,\n",
    "    update_node_fn=lambda n: MLP(features=[128, 128, 64])(n),\n",
    "    aggregate_nodes_fn=jax.ops.segment_sum,\n",
    "    add_self_edges=True,\n",
    "    layer_norm=True,\n",
    "    symmetric_normalization=True,\n",
    "    num_user_nodes=graph.globals['num_users'],\n",
    ")\n",
    "state = create_train_state(\n",
    "    model=model,\n",
    "    graph=graph,\n",
    "    tx=optimizer,\n",
    "    rngs=rngs,\n",
    ")"
   ]
  },
  {
   "cell_type": "markdown",
   "metadata": {},
   "source": [
    "As you can see our model has 45375 parameters. You can play with this by changing model hyper-parameters. Next, we will define train and evaluation steps and train the model."
   ]
  },
  {
   "cell_type": "code",
   "execution_count": 17,
   "metadata": {},
   "outputs": [],
   "source": [
    "# @title Train step\n",
    "@jax.jit\n",
    "def train_step(\n",
    "    state: train_state.TrainState,\n",
    "    graph: jnp.array,\n",
    "    labels: jnp.ndarray,\n",
    "    mask: jnp.ndarray,\n",
    "    rngs: dict,\n",
    ") -> Tuple[train_state.TrainState, tuple]:\n",
    "    \"\"\"Performs one update step over the graph.\n",
    "\n",
    "    Args:\n",
    "        state: training state.\n",
    "        graph: graph node features.\n",
    "        labels: graph edge labels.\n",
    "        mask: mask for labels to consider for optimization\n",
    "        rngs: rngs for droupout\n",
    "\n",
    "    Returns:\n",
    "        Current training state, the loss, and logits.\n",
    "    \"\"\"\n",
    "    step = state.step\n",
    "    rngs = {name: jax.random.fold_in(rng, step) for name, rng in rngs.items()}\n",
    "\n",
    "    def loss_fn(params, graph, labels):\n",
    "        # Compute logits and resulting loss.\n",
    "        variables = {\"params\": params}\n",
    "        logits = state.apply_fn(\n",
    "            variables,\n",
    "            graph=graph,\n",
    "            rngs=rngs,\n",
    "        )\n",
    "        loss = l1_loss(logits=logits, y=labels, mask=mask)\n",
    "        return loss, logits\n",
    "\n",
    "    grad_fn = jax.value_and_grad(loss_fn, has_aux=True)\n",
    "    (loss, logits), grads = grad_fn(state.params, graph, labels)\n",
    "    new_state = state.apply_gradients(grads=grads)\n",
    "    return new_state, (loss, logits)\n"
   ]
  },
  {
   "cell_type": "code",
   "execution_count": 18,
   "metadata": {},
   "outputs": [],
   "source": [
    "# @title Evaluation step\n",
    "@jax.jit\n",
    "def evaluate_step(\n",
    "    state: train_state.TrainState,\n",
    "    graph: jnp.array,\n",
    "    labels: jnp.ndarray,\n",
    "    mask: jnp.ndarray,\n",
    "    dropout_rng: dict = None,\n",
    ") -> tuple:\n",
    "    \"\"\"Performs evaluation step over a set of inputs.\"\"\"\n",
    "    variables = {\"params\": state.params}\n",
    "    logits = state.apply_fn(\n",
    "        variables,\n",
    "        graph=graph,\n",
    "        rngs=dropout_rng,\n",
    "    )\n",
    "    loss = l1_loss(logits=logits, y=labels, mask=mask)\n",
    "    return (loss, logits)"
   ]
  },
  {
   "cell_type": "code",
   "execution_count": 19,
   "metadata": {},
   "outputs": [],
   "source": [
    "# @title Train loop function\n",
    "def train_eval(state, graph, train_mask, val_mask, rng, epochs = 10):\n",
    "    final_train_loss = []\n",
    "    final_val_loss = []\n",
    "    for epoch in range(epochs):\n",
    "        rng, epoch_rng = jax.random.split(rng)\n",
    "        epoch_rng = {\"dropout\": epoch_rng}\n",
    "\n",
    "        state, (train_loss, train_logits) = train_step(state=state, graph=graph, labels=graph.edges, mask=train_mask, rngs = epoch_rng)\n",
    "        val_loss, val_logits = evaluate_step(state=state, graph=graph, mask=val_mask, labels=graph.edges)\n",
    "        print(f\"Epoch: {epoch}, train_loss: {train_loss}, val_loss: {val_loss}\")\n",
    "        final_train_loss.append(train_loss.item())\n",
    "        final_val_loss.append(val_loss.item())\n",
    "\n",
    "    return (state, final_train_loss, final_val_loss)"
   ]
  },
  {
   "cell_type": "code",
   "execution_count": 20,
   "metadata": {},
   "outputs": [
    {
     "name": "stdout",
     "output_type": "stream",
     "text": [
      "Epoch: 0, train_loss: 1.0098193883895874, val_loss: 1.0110235214233398\n",
      "Epoch: 1, train_loss: 1.0097953081130981, val_loss: 1.010999321937561\n",
      "Epoch: 2, train_loss: 1.0097819566726685, val_loss: 1.0108304023742676\n",
      "Epoch: 3, train_loss: 1.0095322132110596, val_loss: 1.0094709396362305\n",
      "Epoch: 4, train_loss: 1.0081119537353516, val_loss: 1.0064873695373535\n",
      "Epoch: 5, train_loss: 1.005628228187561, val_loss: 1.0019502639770508\n",
      "Epoch: 6, train_loss: 1.0009791851043701, val_loss: 0.9957785606384277\n",
      "Epoch: 7, train_loss: 0.9950308203697205, val_loss: 0.9860438704490662\n",
      "Epoch: 8, train_loss: 0.9846590161323547, val_loss: 0.9705249667167664\n",
      "Epoch: 9, train_loss: 0.9703871607780457, val_loss: 0.9563531875610352\n",
      "Epoch: 10, train_loss: 0.9548705220222473, val_loss: 0.9396563172340393\n",
      "Epoch: 11, train_loss: 0.9373926520347595, val_loss: 0.921456515789032\n",
      "Epoch: 12, train_loss: 0.9190142750740051, val_loss: 0.9010291695594788\n",
      "Epoch: 13, train_loss: 0.8984993696212769, val_loss: 0.8829574584960938\n",
      "Epoch: 14, train_loss: 0.8806910514831543, val_loss: 0.8608927726745605\n",
      "Epoch: 15, train_loss: 0.8585720062255859, val_loss: 0.8366938829421997\n",
      "Epoch: 16, train_loss: 0.8333339095115662, val_loss: 0.8205327987670898\n",
      "Epoch: 17, train_loss: 0.8173732757568359, val_loss: 0.8061805963516235\n",
      "Epoch: 18, train_loss: 0.8030288815498352, val_loss: 0.7909387350082397\n",
      "Epoch: 19, train_loss: 0.7892932891845703, val_loss: 0.7780145406723022\n",
      "Epoch: 20, train_loss: 0.7781851887702942, val_loss: 0.763819694519043\n",
      "Epoch: 21, train_loss: 0.7647387385368347, val_loss: 0.748662531375885\n",
      "Epoch: 22, train_loss: 0.7499024868011475, val_loss: 0.73833167552948\n",
      "Epoch: 23, train_loss: 0.739490270614624, val_loss: 0.731126070022583\n",
      "Epoch: 24, train_loss: 0.7312088012695312, val_loss: 0.7268968820571899\n",
      "Epoch: 25, train_loss: 0.7262955904006958, val_loss: 0.7233651280403137\n",
      "Epoch: 26, train_loss: 0.7211228609085083, val_loss: 0.7208575010299683\n",
      "Epoch: 27, train_loss: 0.7161857485771179, val_loss: 0.7179876565933228\n",
      "Epoch: 28, train_loss: 0.7128457427024841, val_loss: 0.7123995423316956\n",
      "Epoch: 29, train_loss: 0.7076284289360046, val_loss: 0.7050615549087524\n",
      "Epoch: 30, train_loss: 0.6998582482337952, val_loss: 0.6983786821365356\n",
      "Epoch: 31, train_loss: 0.6921630501747131, val_loss: 0.6929863691329956\n",
      "Epoch: 32, train_loss: 0.6852283477783203, val_loss: 0.6881792545318604\n",
      "Epoch: 33, train_loss: 0.6793705821037292, val_loss: 0.6843607425689697\n",
      "Epoch: 34, train_loss: 0.6741485595703125, val_loss: 0.6805662512779236\n",
      "Epoch: 35, train_loss: 0.6686294078826904, val_loss: 0.6758356094360352\n",
      "Epoch: 36, train_loss: 0.6623888611793518, val_loss: 0.6709594130516052\n",
      "Epoch: 37, train_loss: 0.6570959091186523, val_loss: 0.6670742034912109\n",
      "Epoch: 38, train_loss: 0.652295708656311, val_loss: 0.6635720729827881\n",
      "Epoch: 39, train_loss: 0.6478575468063354, val_loss: 0.6599583625793457\n",
      "Epoch: 40, train_loss: 0.6438544988632202, val_loss: 0.6570050120353699\n",
      "Epoch: 41, train_loss: 0.6396465301513672, val_loss: 0.653039276599884\n",
      "Epoch: 42, train_loss: 0.6350494623184204, val_loss: 0.6481400728225708\n",
      "Epoch: 43, train_loss: 0.6301001310348511, val_loss: 0.6438330411911011\n",
      "Epoch: 44, train_loss: 0.6251619458198547, val_loss: 0.6397559642791748\n",
      "Epoch: 45, train_loss: 0.6202661395072937, val_loss: 0.6351521015167236\n",
      "Epoch: 46, train_loss: 0.6153321266174316, val_loss: 0.6309600472450256\n",
      "Epoch: 47, train_loss: 0.6106547713279724, val_loss: 0.6272205114364624\n",
      "Epoch: 48, train_loss: 0.6060998439788818, val_loss: 0.6232901215553284\n",
      "Epoch: 49, train_loss: 0.6015657782554626, val_loss: 0.6185340285301208\n",
      "Epoch: 50, train_loss: 0.5967787504196167, val_loss: 0.6144264340400696\n",
      "Epoch: 51, train_loss: 0.5924524664878845, val_loss: 0.610565185546875\n",
      "Epoch: 52, train_loss: 0.5882288217544556, val_loss: 0.6062933802604675\n",
      "Epoch: 53, train_loss: 0.5835796594619751, val_loss: 0.6013727188110352\n",
      "Epoch: 54, train_loss: 0.5788029432296753, val_loss: 0.5962699055671692\n",
      "Epoch: 55, train_loss: 0.5740653872489929, val_loss: 0.5913734436035156\n",
      "Epoch: 56, train_loss: 0.56922847032547, val_loss: 0.5866636037826538\n",
      "Epoch: 57, train_loss: 0.5642880201339722, val_loss: 0.5822094678878784\n",
      "Epoch: 58, train_loss: 0.5595180988311768, val_loss: 0.5774197578430176\n",
      "Epoch: 59, train_loss: 0.5548210740089417, val_loss: 0.5726784467697144\n",
      "Epoch: 60, train_loss: 0.5503841042518616, val_loss: 0.5681169033050537\n",
      "Epoch: 61, train_loss: 0.5457068681716919, val_loss: 0.564024806022644\n",
      "Epoch: 62, train_loss: 0.5412046909332275, val_loss: 0.5597053170204163\n",
      "Epoch: 63, train_loss: 0.536967396736145, val_loss: 0.5552889704704285\n",
      "Epoch: 64, train_loss: 0.5327136516571045, val_loss: 0.5510321855545044\n",
      "Epoch: 65, train_loss: 0.528358519077301, val_loss: 0.5467559099197388\n",
      "Epoch: 66, train_loss: 0.5238428115844727, val_loss: 0.5423446893692017\n",
      "Epoch: 67, train_loss: 0.5192201137542725, val_loss: 0.5377964377403259\n",
      "Epoch: 68, train_loss: 0.5149877071380615, val_loss: 0.5338472723960876\n",
      "Epoch: 69, train_loss: 0.5113412141799927, val_loss: 0.5296513438224792\n",
      "Epoch: 70, train_loss: 0.5075532793998718, val_loss: 0.5259983539581299\n",
      "Epoch: 71, train_loss: 0.5042634010314941, val_loss: 0.5225943326950073\n",
      "Epoch: 72, train_loss: 0.5011724233627319, val_loss: 0.519582211971283\n",
      "Epoch: 73, train_loss: 0.4982092082500458, val_loss: 0.5165328979492188\n",
      "Epoch: 74, train_loss: 0.4954781234264374, val_loss: 0.5135417580604553\n",
      "Epoch: 75, train_loss: 0.4928821623325348, val_loss: 0.5110155940055847\n",
      "Epoch: 76, train_loss: 0.4902842044830322, val_loss: 0.5083339214324951\n",
      "Epoch: 77, train_loss: 0.48783552646636963, val_loss: 0.5066561102867126\n",
      "Epoch: 78, train_loss: 0.4863087832927704, val_loss: 0.5050620436668396\n",
      "Epoch: 79, train_loss: 0.48532357811927795, val_loss: 0.5023466944694519\n",
      "Epoch: 80, train_loss: 0.48228830099105835, val_loss: 0.5009052753448486\n",
      "Epoch: 81, train_loss: 0.480691522359848, val_loss: 0.49960294365882874\n",
      "Epoch: 82, train_loss: 0.4797928035259247, val_loss: 0.49782028794288635\n",
      "Epoch: 83, train_loss: 0.4777931272983551, val_loss: 0.4976873993873596\n",
      "Epoch: 84, train_loss: 0.47696560621261597, val_loss: 0.49530017375946045\n",
      "Epoch: 85, train_loss: 0.4747648239135742, val_loss: 0.49355170130729675\n",
      "Epoch: 86, train_loss: 0.4734857976436615, val_loss: 0.4923560917377472\n",
      "Epoch: 87, train_loss: 0.4718686640262604, val_loss: 0.49231958389282227\n",
      "Epoch: 88, train_loss: 0.4712506830692291, val_loss: 0.4896113872528076\n",
      "Epoch: 89, train_loss: 0.46914592385292053, val_loss: 0.4887210726737976\n",
      "Epoch: 90, train_loss: 0.4684889018535614, val_loss: 0.4876672029495239\n",
      "Epoch: 91, train_loss: 0.4670957028865814, val_loss: 0.487050324678421\n",
      "Epoch: 92, train_loss: 0.4661392867565155, val_loss: 0.48592057824134827\n",
      "Epoch: 93, train_loss: 0.4649403393268585, val_loss: 0.4852648377418518\n",
      "Epoch: 94, train_loss: 0.46412327885627747, val_loss: 0.4847046732902527\n",
      "Epoch: 95, train_loss: 0.46320584416389465, val_loss: 0.48368170857429504\n",
      "Epoch: 96, train_loss: 0.46221834421157837, val_loss: 0.4829116761684418\n",
      "Epoch: 97, train_loss: 0.46138298511505127, val_loss: 0.4824618697166443\n",
      "Epoch: 98, train_loss: 0.4606952965259552, val_loss: 0.48177385330200195\n",
      "Epoch: 99, train_loss: 0.4599386155605316, val_loss: 0.4810931384563446\n"
     ]
    }
   ],
   "source": [
    "# train the model\n",
    "epochs = 100\n",
    "final_state, final_train_loss, final_val_loss = train_eval(state=state, graph=graph, train_mask=train_mask, val_mask=val_mask, rng=rng, epochs = epochs)"
   ]
  },
  {
   "cell_type": "code",
   "execution_count": 21,
   "metadata": {},
   "outputs": [
    {
     "data": {
      "image/png": "[encoded data removed]",
      "text/plain": [
       "<Figure size 1000x600 with 1 Axes>"
      ]
     },
     "metadata": {},
     "output_type": "display_data"
    }
   ],
   "source": [
    "# Plotting losses\n",
    "plt.figure(figsize=(10, 6))\n",
    "plt.plot(range(epochs), final_train_loss, label=\"Train Loss\", marker='o')\n",
    "plt.plot(range(epochs), final_val_loss, label=\"Validation Loss\", marker='*')\n",
    "plt.title(\"Training and Validation Loss\")\n",
    "plt.xlabel(\"Epochs\")\n",
    "plt.ylabel(\"Loss\")\n",
    "plt.legend()\n",
    "plt.grid(True)\n",
    "plt.tight_layout()\n",
    "plt.show()"
   ]
  },
  {
   "cell_type": "markdown",
   "metadata": {},
   "source": [
    "#### **3.3.2. Inference**\n",
    "\n",
    "In this section, we will show how we can recommend top N movies for a specific user based on the trained GNN. Since we already have a test set edges. We will use this to demonstrate the inference. We will do the following:\n",
    "\n",
    "1. Extract test edges: With the test_mask, obtain the edges that belong to the test set.\n",
    "2. Predict ratings: For each of these test edges, use the trained GNN to predict a rating.\n",
    "3. Map to original data: Using the movie_mapping and user_mapping from the GraphDataPreparation class, convert the predicted edges back to the original movie and user IDs.\n",
    "4. Get movie names: For the mapped movie IDs, fetch the actual movie names.\n",
    "5. To get the top N recommended movies for a particular user, we will sort the movies based on the predicted ratings and then pick the top N movies for the user.\n",
    "\n",
    "\n",
    "Below we will implement two functions to do the above steps for us."
   ]
  },
  {
   "cell_type": "code",
   "execution_count": 22,
   "metadata": {},
   "outputs": [],
   "source": [
    "# Using the test_mask, get the edges corresponding to the test set\n",
    "test_edge_senders = graph.senders[test_mask.squeeze()]\n",
    "test_edge_receivers = graph.receivers[test_mask.squeeze()] - len(data.user_mapping)"
   ]
  },
  {
   "cell_type": "code",
   "execution_count": 23,
   "metadata": {},
   "outputs": [],
   "source": [
    "# Predict the ratings using the trained model\n",
    "_, logits = evaluate_step(final_state, graph, labels=graph.edges, mask=test_mask)\n",
    "predicted_ratings = logits[test_mask]"
   ]
  },
  {
   "cell_type": "code",
   "execution_count": 24,
   "metadata": {},
   "outputs": [],
   "source": [
    "# get back the original user and movie IDs\n",
    "reverse_user_mapping = {v: k for k, v in data.user_mapping.items()}\n",
    "reverse_movie_mapping = {v: k for k, v in data.movie_mapping.items()}"
   ]
  },
  {
   "cell_type": "code",
   "execution_count": 25,
   "metadata": {},
   "outputs": [],
   "source": [
    "# Get original user and movie ids for lookup\n",
    "original_user_ids = np.array([reverse_user_mapping[v] for v in test_edge_senders]).astype(str)\n",
    "original_movie_ids = np.array([reverse_movie_mapping[v] for v in test_edge_receivers]).astype(str)"
   ]
  },
  {
   "cell_type": "code",
   "execution_count": 26,
   "metadata": {},
   "outputs": [
    {
     "data": {
      "text/html": [
       "<div>\n",
       "<style scoped>\n",
       "    .dataframe tbody tr th:only-of-type {\n",
       "        vertical-align: middle;\n",
       "    }\n",
       "\n",
       "    .dataframe tbody tr th {\n",
       "        vertical-align: top;\n",
       "    }\n",
       "\n",
       "    .dataframe thead th {\n",
       "        text-align: right;\n",
       "    }\n",
       "</style>\n",
       "<table border=\"1\" class=\"dataframe\">\n",
       "  <thead>\n",
       "    <tr style=\"text-align: right;\">\n",
       "      <th></th>\n",
       "      <th>user_id</th>\n",
       "      <th>movie_name</th>\n",
       "      <th>predicted_rating</th>\n",
       "    </tr>\n",
       "  </thead>\n",
       "  <tbody>\n",
       "    <tr>\n",
       "      <th>0</th>\n",
       "      <td>710</td>\n",
       "      <td>Aladdin (1992)</td>\n",
       "      <td>3.812</td>\n",
       "    </tr>\n",
       "    <tr>\n",
       "      <th>1</th>\n",
       "      <td>797</td>\n",
       "      <td>Jungle2Jungle (1997)</td>\n",
       "      <td>3.120</td>\n",
       "    </tr>\n",
       "    <tr>\n",
       "      <th>2</th>\n",
       "      <td>188</td>\n",
       "      <td>Man Without a Face, The (1993)</td>\n",
       "      <td>3.531</td>\n",
       "    </tr>\n",
       "    <tr>\n",
       "      <th>3</th>\n",
       "      <td>91</td>\n",
       "      <td>GoodFellas (1990)</td>\n",
       "      <td>3.935</td>\n",
       "    </tr>\n",
       "    <tr>\n",
       "      <th>4</th>\n",
       "      <td>195</td>\n",
       "      <td>Snow White and the Seven Dwarfs (1937)</td>\n",
       "      <td>1.000</td>\n",
       "    </tr>\n",
       "  </tbody>\n",
       "</table>\n",
       "</div>"
      ],
      "text/plain": [
       "  user_id                              movie_name  predicted_rating\n",
       "0     710                          Aladdin (1992)             3.812\n",
       "1     797                    Jungle2Jungle (1997)             3.120\n",
       "2     188          Man Without a Face, The (1993)             3.531\n",
       "3      91                       GoodFellas (1990)             3.935\n",
       "4     195  Snow White and the Seven Dwarfs (1937)             1.000"
      ]
     },
     "execution_count": 26,
     "metadata": {},
     "output_type": "execute_result"
    }
   ],
   "source": [
    "# Get movie names using the original movie_ids\n",
    "movie_title = movies_df.set_index('movie_id').loc[original_movie_ids, 'movie_title'].values\n",
    "\n",
    "# Create a DataFrame with the results\n",
    "predicted_ratings_df = pd.DataFrame({\n",
    "    'user_id': original_user_ids,\n",
    "    'movie_name': movie_title,\n",
    "    'predicted_rating': np.round(predicted_ratings, 3)\n",
    "})\n",
    "predicted_ratings_df.head()"
   ]
  },
  {
   "cell_type": "code",
   "execution_count": 27,
   "metadata": {},
   "outputs": [
    {
     "name": "stdout",
     "output_type": "stream",
     "text": [
      "Top 10 movies recommended for user ID: 600 are: \n",
      "0: Specialist, The (1994)\n",
      "1: Full Monty, The (1997)\n",
      "2: Demolition Man (1993)\n",
      "3: Young Guns II (1990)\n",
      "4: Pulp Fiction (1994)\n",
      "5: Quick and the Dead, The (1995)\n",
      "6: Romeo Is Bleeding (1993)\n",
      "7: Die Hard: With a Vengeance (1995)\n",
      "8: Star Trek IV: The Voyage Home (1986)\n",
      "9: Die Hard 2 (1990)\n"
     ]
    }
   ],
   "source": [
    "# Get the top N recommended movies for a user.\n",
    "\n",
    "user_id = \"600\"\n",
    "N = 10\n",
    "\n",
    "top_movies = predicted_ratings_df[predicted_ratings_df['user_id'] == user_id].sort_values(by='predicted_rating', ascending=False).head(N)\n",
    "top_N = top_movies['movie_name'].tolist()\n",
    "\n",
    "print(f'Top {len(top_N)} movies recommended for user ID: {user_id} are: ')\n",
    "\n",
    "for number, movie_title in enumerate(top_N):\n",
    "    print(f'{number}: {movie_title}')"
   ]
  },
  {
   "cell_type": "code",
   "execution_count": null,
   "metadata": {},
   "outputs": [],
   "source": []
  }
 ],
 "metadata": {
  "kernelspec": {
   "display_name": "indaba_prac",
   "language": "python",
   "name": "python3"
  },
  "language_info": {
   "codemirror_mode": {
    "name": "ipython",
    "version": 3
   },
   "file_extension": ".py",
   "mimetype": "text/x-python",
   "name": "python",
   "nbconvert_exporter": "python",
   "pygments_lexer": "ipython3",
   "version": "3.9.17"
  }
 },
 "nbformat": 4,
 "nbformat_minor": 2
}
