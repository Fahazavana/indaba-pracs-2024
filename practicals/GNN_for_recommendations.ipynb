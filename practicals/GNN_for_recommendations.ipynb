{
 "cells": [
  {
   "cell_type": "markdown",
   "metadata": {},
   "source": [
    "## **1. Building Recommender Systems using Graph Neural Networks (GNNs)**\n",
    "\n",
    "This tutorial builds upon the knowledge gained from the Graph Neural Networks and Recommender Systems tutorials. In this section, we will show how to leverage Graph Neural Networks in recommender systems.\n",
    "\n",
    "**Prerequisites:**\n",
    "\n",
    "- Familiarity with JAX, especially Flax and Jraph\n",
    "- A solid grasp of neural network fundamentals\n",
    "- Completion of the Graph Neural Networks (GNNs) tutorial\n",
    "- Completion of the Recommender Systems tutorial\n",
    "\n",
    "**Aims/Learning Objectives:**\n",
    "- Frame link prediction tasks within the context of movie recommendations\n",
    "- Implement a Graph Convolutional Network (GCN) for movie recommendations\n"
   ]
  },
  {
   "cell_type": "markdown",
   "metadata": {},
   "source": [
    "### 1.1 Introduction\n",
    "\n",
    "Graphs are a powerful and versatile representation of data with a wide range of applications. While most people are familiar with their use in contexts such as social networks and biological systems, graphs also have been used in recommender systems, which is the focus of this tutorial."
   ]
  },
  {
   "cell_type": "markdown",
   "metadata": {},
   "source": [
    "### **1.2. Graph Prediction Tasks**\n",
    "\n",
    "As demonstrated in the GNN tutorial there are mainly three graph tasks in the context of graph neural networks:\n",
    "\n",
    "1. **Node Classification**: E.g. what is the topic of a paper given a citation network of papers?\n",
    "2. **Link Prediction / Edge Classification**: E.g. are two people in a social network friends?\n",
    "3. **Graph Classification**: E.g. is this protein molecule (represented as a graph) likely going to be effective?\n",
    "\n",
    "<image src=\"https://storage.googleapis.com/dm-educational/assets/graph-nets/graph_tasks.png\" width=\"700px\">\n",
    "\n",
    "*Image source: Petar Veličković.*\n"
   ]
  },
  {
   "cell_type": "markdown",
   "metadata": {},
   "source": [
    "### **1.3. Recommender Systems as a Link Prediction Problem**\n",
    "\n",
    "A recommender system can be visualized as a graph, where entities (such as users and items) are nodes, and the interactions between them (such as ratings or purchase history) are edges. In the movie recommendation system, we have:\n",
    "\n",
    "- Nodes represent:\n",
    "  - Users: Individuals consuming the content\n",
    "  - Movies: Content items to be recommended\n",
    "\n",
    "- Edges represent:\n",
    "  - Ratings: Directed edges from users to movies, weighted to indicate the rating (e.g., on a scale of 1 to 5)"
   ]
  },
  {
   "cell_type": "markdown",
   "metadata": {},
   "source": [
    "#### 1.3.1. Link (or Edge) Prediction\n",
    "\n",
    "Link prediction aims to determine whether a link (or edge) should exist between two nodes, even if it's currently absent. In our movie recommendation system, this translates to predicting whether a user would like (or dislike) a movie they haven't yet rated.\n",
    "\n",
    "The process works as follows:\n",
    "\n",
    "1. Train on existing nodes or edges: Use known user-movie node feature interactions to train a model.\n",
    "2. Predict missing edges: For a given user, predict ratings for movies they haven't seen or rated. This is equivalent to predicting missing or potential edges in our graph.\n",
    "3. Recommend based on predictions: Suggest movies with the highest predicted ratings to the user.\n",
    "\n",
    "In this section of the tutorial, we will leverage Graph Neural Networks (GNNs) for this link prediction task. GNNs operate on the graph, aggregating information from neighboring nodes to produce accurate predictions for unseen edges. \n",
    "\n",
    "The figure below showcases a user-item sub-knowledge graph. Each icon represents an entity/user or concept, and the connecting lines (edges) symbolize the relationships between them."
   ]
  },
  {
   "cell_type": "markdown",
   "metadata": {},
   "source": [
    "![Description](graph_rc.png)\n",
    "\n",
    "*Image source: [HI2Rec: Exploring Knowledge in Heterogeneous Information for Movie Recommendation](https://www.semanticscholar.org/paper/HI2Rec%3A-Exploring-Knowledge-in-Heterogeneous-for-He-Wang/038eb4e6839352c8fa8f9c4f5ae5ff958e14c5a3)*"
   ]
  },
  {
   "cell_type": "markdown",
   "metadata": {},
   "source": [
    "### **1.4. Setup and Installation**\n",
    "\n",
    "Before we begin, let's install the necessary libraries. We'll be using `jraph`, a library for working with graph neural networks in JAX.\n",
    "\n",
    "Run the following cell to install `jraph`:"
   ]
  },
  {
   "cell_type": "code",
   "execution_count": null,
   "metadata": {},
   "outputs": [],
   "source": [
    "#@title Installations\n",
    "%%capture\n",
    "!pip install git+https://github.com/deepmind/jraph.git"
   ]
  },
  {
   "cell_type": "markdown",
   "metadata": {},
   "source": [
    "#### **1.4.1. Import Required Libraries**\n",
    "\n",
    "In this section, we'll import the necessary libraries for our GNN-based recommender system. \n",
    "Run the following cell to import the required packages:"
   ]
  },
  {
   "cell_type": "code",
   "execution_count": 1,
   "metadata": {},
   "outputs": [],
   "source": [
    "# @title Import required packages. \n",
    "\n",
    "import jax\n",
    "import jraph\n",
    "import optax\n",
    "import torch\n",
    "import numpy as np\n",
    "import pandas as pd\n",
    "from flax import linen as nn\n",
    "from jax import numpy as jnp\n",
    "import jax.tree_util as tree\n",
    "import matplotlib.pyplot as plt\n",
    "from jraph import GraphConvolution\n",
    "from flax.training import train_state\n",
    "from typing import Mapping, Sequence, Tuple, Callable"
   ]
  },
  {
   "cell_type": "markdown",
   "metadata": {},
   "source": [
    "#### **1.5 Data**\n",
    "\n",
    "In this section, we load a pre-processed graph version of the MovieLens data from a PyTorch Geometric Data object saved as 'data.pt'. \n",
    "\n",
    "This graph representation is prepared for use with our GNN model and will be the primary data structure used during model training. If you are interested in how we transformed the original MovieLens data into a graph format, please refer to this [file](link). Note that unlike the previous tutorial, where user node features were randomly generated from an embedding matrix, in this tutorial we will use learnable feature embeddings for each user.\n"
   ]
  },
  {
   "cell_type": "code",
   "execution_count": 2,
   "metadata": {},
   "outputs": [
    {
     "data": {
      "text/plain": [
       "['val_mask',\n",
       " 'train_mask',\n",
       " 'edge_index',\n",
       " 'num_users',\n",
       " 'movie_id_to_title',\n",
       " 'x',\n",
       " 'test_mask',\n",
       " 'edge_attr']"
      ]
     },
     "execution_count": 2,
     "metadata": {},
     "output_type": "execute_result"
    }
   ],
   "source": [
    "#@title Load graph data\n",
    "\n",
    "data = torch.load(f\"data.pt\")\n",
    "data.keys"
   ]
  },
  {
   "cell_type": "markdown",
   "metadata": {},
   "source": [
    "The data Object contains the following attributes:\n",
    "\n",
    "\n",
    "- `num_users`: The total number of unique users in the dataset.\n",
    "- `x`: Node features matrix where each row represents a node (user or movie) and columns are feature values.\n",
    "- `movie_id_to_title`: A mapping from user IDs to their corresponding movie titles in the graph. We will use this for inference.\n",
    "- `val_mask`: A boolean mask used to select the subset of data (edges) for validation.\n",
    "- `train_mask`: A boolean mask used to select the subset of data (edges) for training.\n",
    "- `test_mask`: A boolean mask used to select the subset of data (edges) for testing.\n",
    "- `edge_attr`: edge features, in our case our this corresponds to the rating provided by the user to the movie (i.e. user rating). \n",
    "- `edge_index`: A list of tuples indicating the start and end nodes of each edge, defining the graph structure.\n"
   ]
  },
  {
   "cell_type": "markdown",
   "metadata": {},
   "source": [
    "In the node features (`x`), the features corresponding to users are initially set to zeros. These will be replaced within the model by learnable embedding features. Movie node features, on the other hand, are represented using one-hot encoding of the movie genres. Although it's possible to include movie titles as part of the node features, we have opted for simplicity in this tutorial and only use one-hot encoding of movie genres.\n"
   ]
  },
  {
   "cell_type": "markdown",
   "metadata": {},
   "source": [
    "Let us do a preliminary exploration of the data. For instance, let us print the number of unique users and movies. "
   ]
  },
  {
   "cell_type": "code",
   "execution_count": 3,
   "metadata": {},
   "outputs": [
    {
     "name": "stdout",
     "output_type": "stream",
     "text": [
      "Number of unique users: 610\n",
      "Number of unique movies: 9724\n"
     ]
    }
   ],
   "source": [
    "# Number of unique users\n",
    "num_users = data.num_users\n",
    "print(f\"Number of unique users: {num_users}\")\n",
    "\n",
    "# Number of unique movies\n",
    "num_movies = len(data.movie_id_to_title)\n",
    "print(f\"Number of unique movies: {num_movies}\")"
   ]
  },
  {
   "cell_type": "markdown",
   "metadata": {},
   "source": [
    "Below we will visualize the distribution of user ratings."
   ]
  },
  {
   "cell_type": "code",
   "execution_count": 4,
   "metadata": {},
   "outputs": [
    {
     "data": {
      "image/png": "[encoded data removed]",
      "text/plain": [
       "<Figure size 640x480 with 1 Axes>"
      ]
     },
     "metadata": {},
     "output_type": "display_data"
    }
   ],
   "source": [
    "import matplotlib.pyplot as plt\n",
    "\n",
    "# Extract ratings from edge_attr\n",
    "ratings = data.edge_attr.numpy()\n",
    "\n",
    "# Plot the distribution of ratings\n",
    "plt.hist(ratings, bins=10, edgecolor='black')\n",
    "plt.xlabel('Rating')\n",
    "plt.ylabel('Frequency')\n",
    "plt.title('Distribution of Ratings')\n",
    "plt.show()"
   ]
  },
  {
   "cell_type": "markdown",
   "metadata": {},
   "source": [
    "We can observe that the most frequent rating provided is 3 and 4."
   ]
  },
  {
   "cell_type": "markdown",
   "metadata": {},
   "source": [
    "We need to change our graph data into a format that Jax's `Jraph` framework can use. The function below converts our graph into `jraph.GraphsTuple`, which is compatible with Jraph models."
   ]
  },
  {
   "cell_type": "code",
   "execution_count": 5,
   "metadata": {},
   "outputs": [],
   "source": [
    "#@title Helper function \n",
    "\n",
    "# A helper function to convert our graph data into jraph.GraphsTuple\n",
    "def convert_to_jraph(data):\n",
    "    \"\"\" Convert the Pytorch Data Object \"\"\"\n",
    "    graph = jraph.GraphsTuple(\n",
    "        nodes=np.array(data.x),\n",
    "        edges=np.array(data.edge_attr),\n",
    "        n_node=np.array([data.num_nodes]),\n",
    "        n_edge=np.array([data.num_edges]),\n",
    "        senders=np.array(data.edge_index[0]),  # users are source\n",
    "        receivers=np.array(data.edge_index[1]),  # movies are recievers\n",
    "        globals={\"num_users\": data.num_users},\n",
    "    )\n",
    "    train_mask, val_mask, test_mask = np.array(data.train_mask), np.array(data.val_mask), np.array(data.test_mask)\n",
    "    return graph, train_mask, val_mask, test_mask"
   ]
  },
  {
   "cell_type": "code",
   "execution_count": 6,
   "metadata": {},
   "outputs": [
    {
     "data": {
      "text/plain": [
       "GraphsTuple(nodes=array([[0., 0., 0., ..., 0., 0., 0.],\n",
       "       [0., 0., 0., ..., 0., 0., 0.],\n",
       "       [0., 0., 0., ..., 0., 0., 0.],\n",
       "       ...,\n",
       "       [0., 0., 0., ..., 0., 0., 0.],\n",
       "       [1., 0., 0., ..., 0., 0., 0.],\n",
       "       [0., 0., 0., ..., 0., 0., 0.]], dtype=float32), edges=array([[5. ],\n",
       "       [4.5],\n",
       "       [4. ],\n",
       "       ...,\n",
       "       [4. ],\n",
       "       [5. ],\n",
       "       [3.5]], dtype=float32), receivers=array([ 610,  611,  612, ...,  947, 1447,  937]), senders=array([  0,   1,   2, ..., 183, 415, 442]), globals={'num_users': 610}, n_node=array([10334]), n_edge=array([100836]))"
      ]
     },
     "execution_count": 6,
     "metadata": {},
     "output_type": "execute_result"
    }
   ],
   "source": [
    "#@title Convert the graph to jraph.GraphsTuple\n",
    "\n",
    "graph, train_mask, val_mask, test_mask = convert_to_jraph(data=data)\n",
    "graph"
   ]
  },
  {
   "cell_type": "markdown",
   "metadata": {},
   "source": [
    "We'll use a Graph Convolutional Network (GCN) as our model. For more in-depth understanding of GCN, please go through the GNN Tutorial and other provided resources. "
   ]
  },
  {
   "cell_type": "markdown",
   "metadata": {},
   "source": [
    "The below class defines a simple Multi-Layer Perceptron (MLP) module that updates features during the message passing in our GNN."
   ]
  },
  {
   "cell_type": "code",
   "execution_count": 7,
   "metadata": {},
   "outputs": [],
   "source": [
    "#@title MLP\n",
    "\n",
    "class MLP(nn.Module):\n",
    "  \"\"\"A flax MLP.\"\"\"\n",
    "  features: Sequence[int]\n",
    "  kernel_init: Callable = jax.nn.initializers.he_uniform()\n",
    "  bias_init: Callable = jax.nn.initializers.zeros\n",
    "\n",
    "  @nn.compact\n",
    "  def __call__(self, inputs):\n",
    "    x = inputs\n",
    "    for i, feat in enumerate(self.features):\n",
    "        lyr = nn.Dense(feat, kernel_init=self.kernel_init, bias_init=self.bias_init, name=f\"mlp_dense_{i}\")\n",
    "        x = lyr(x)\n",
    "        x = nn.relu(x)\n",
    "        if i != len(self.features) - 1:\n",
    "            x = nn.relu(x)\n",
    "    return x"
   ]
  },
  {
   "cell_type": "markdown",
   "metadata": {},
   "source": [
    "### Graph Convolution Layer\n",
    "\n",
    "This class implements a Graph Convolution Layer. It starts by embedding user features, then combines these with movie nodes to process through the network. The layer uses an attention mechanism to weigh the importance of edges and aggregates messages at nodes. Optional layer normalization can be applied to stabilize the model during training. Finally, it predicts edge values with simple dense layer, and scales these predictions to 1-5 scale.\n"
   ]
  },
  {
   "cell_type": "code",
   "execution_count": 93,
   "metadata": {},
   "outputs": [],
   "source": [
    "#@title Model\n",
    "\n",
    "class GraphConvLayer(nn.Module):\n",
    "    output_decoder_dim: int\n",
    "    num_user_nodes: int\n",
    "    update_node_fn: Callable\n",
    "    attention_logit_fn: Callable\n",
    "    aggregate_nodes_fn: Callable = jax.ops.segment_sum\n",
    "    add_self_edges: bool = False\n",
    "    symmetric_normalization: bool = True\n",
    "    layer_norm: bool = False\n",
    "\n",
    "    @nn.compact\n",
    "    def __call__(self, graph):\n",
    "        # Embed the user features\n",
    "        user_indices = jnp.arange(self.num_user_nodes)\n",
    "        emb = nn.Embed(self.num_user_nodes, graph.nodes.shape[1])\n",
    "        user_embeddings = emb(user_indices)\n",
    "\n",
    "        # graph.nodes should be structured such that user nodes come first, followed by movie nodes\n",
    "        nodes = jnp.concatenate([user_embeddings, graph.nodes[self.num_user_nodes:]], axis=0)\n",
    "        edge_weights = self.attention_logit_fn(graph.edges)\n",
    "        edge_weights = jraph.segment_softmax(edge_weights, segment_ids=graph.receivers, num_segments=nodes.shape[0])\n",
    "        messages =  nodes[graph.senders] * edge_weights\n",
    "        nodes = self.aggregate_nodes_fn(messages, graph.receivers, num_segments=graph.nodes.shape[0])\n",
    "        graph = graph._replace(nodes=nodes)\n",
    "\n",
    "        gcn = GraphConvolution(\n",
    "            update_node_fn=self.update_node_fn,\n",
    "            aggregate_nodes_fn=self.aggregate_nodes_fn,\n",
    "            add_self_edges=self.add_self_edges,\n",
    "            symmetric_normalization=self.symmetric_normalization\n",
    "        )\n",
    "        graph = gcn(graph)\n",
    "        if self.layer_norm:\n",
    "            # Apply layer normalization to the node embeddings\n",
    "            normalized_nodes = nn.LayerNorm()(graph.nodes)\n",
    "            # Update the graph with the normalized node embeddings\n",
    "            graph = graph._replace(nodes=normalized_nodes)\n",
    "\n",
    "        edge_predictions = jnp.sum(graph.nodes[graph.senders] * graph.nodes[graph.receivers], axis=-1)\n",
    "        edge_predictions = jnp.expand_dims(edge_predictions, axis=1)\n",
    "        edge_predictions = nn.Dense(self.output_decoder_dim, name=\"mlp_dense_output\")(edge_predictions)\n",
    "\n",
    "        # Apply sigmoid activation and scale it\n",
    "        edge_predictions = 4 * jax.nn.sigmoid(edge_predictions) + 1\n",
    "        return edge_predictions"
   ]
  },
  {
   "cell_type": "markdown",
   "metadata": {},
   "source": [
    "##### Initialize the GCN Layer\n",
    "\n",
    "Here, we define a single-layer Graph Convolution Network (GCN) with specific functions for attention, node updates, and aggregation. \n",
    "We initialize the model to check the output shapes, ensuring everything is set up correctly before training.\n"
   ]
  },
  {
   "cell_type": "code",
   "execution_count": 94,
   "metadata": {},
   "outputs": [
    {
     "data": {
      "text/plain": [
       "((100836, 1), (100836, 1))"
      ]
     },
     "execution_count": 94,
     "metadata": {},
     "output_type": "execute_result"
    }
   ],
   "source": [
    "# Define one layer gcn\n",
    "gcn_layer = GraphConvLayer(\n",
    "    output_decoder_dim = 1,\n",
    "    attention_logit_fn=lambda n: MLP(features=[64, 1])(n),\n",
    "    update_node_fn=lambda n: MLP(features=[64, 64])(n),\n",
    "    aggregate_nodes_fn=jax.ops.segment_sum,\n",
    "    add_self_edges=False,\n",
    "    symmetric_normalization=True,\n",
    "    num_user_nodes=graph.globals['num_users'],\n",
    ")\n",
    "\n",
    "# Initialize to see the output shapes\n",
    "params = gcn_layer.init(jax.random.PRNGKey(42), graph)\n",
    "output = gcn_layer.apply(params, graph)\n",
    "output.shape, graph.edges.shape"
   ]
  },
  {
   "cell_type": "markdown",
   "metadata": {},
   "source": [
    "##### Define the L1 Loss Function\n",
    "\n",
    "This function calculates the L1 loss, which measures the difference between predicted values and actual values. We apply a mask to focus only on train, val or test sets. \n",
    "You can choose to average the loss across all data points or sum.\n"
   ]
  },
  {
   "cell_type": "code",
   "execution_count": 43,
   "metadata": {},
   "outputs": [
    {
     "data": {
      "text/plain": [
       "Array(0.37564957, dtype=float32)"
      ]
     },
     "execution_count": 43,
     "metadata": {},
     "output_type": "execute_result"
    }
   ],
   "source": [
    "# Define loss function\n",
    "def l1_loss(logits: np.ndarray, y: np.ndarray, mask: np.array, reduction: str = \"mean\") -> np.ndarray:\n",
    "    \"\"\"Implementation of l1_loss.\n",
    "\n",
    "    Args:\n",
    "        logits: model output logits.\n",
    "        y: class labels.\n",
    "        reduction: if reduction is mean, the average is returned, else if it is sum, the sum is returned.\n",
    "\n",
    "    Returns:\n",
    "       l1 loss.\n",
    "    \"\"\"\n",
    "    logits_masked = logits * mask.astype(int)\n",
    "    preds_masked = y * mask.astype(int)\n",
    "    if reduction == \"mean\":\n",
    "        loss = jnp.mean(jnp.abs(logits_masked - preds_masked))\n",
    "    if reduction == \"sum\":\n",
    "        loss = jnp.sum(jnp.abs(logits_masked - preds_masked))\n",
    "\n",
    "    return loss\n",
    "\n",
    "# check random loss without training\n",
    "l1_loss(output, graph.edges, mask=val_mask)"
   ]
  },
  {
   "cell_type": "markdown",
   "metadata": {},
   "source": [
    "##### Initialize Training State\n",
    "\n",
    "We set up the training environment by creating a `TrainState`. This includes initializing the model with specific configurations and creating an optimizer. The function `create_train_state` prepares the model, sets up the optimizer, and reports the total number of parameters in the model.\n"
   ]
  },
  {
   "cell_type": "code",
   "execution_count": 44,
   "metadata": {},
   "outputs": [],
   "source": [
    "#@title Define flax train state\n",
    "def create_train_state(\n",
    "    model, graph, tx, rngs\n",
    "):\n",
    "    \"\"\"Train state. This function initializes the model.\"\"\"\n",
    "\n",
    "    @jax.jit\n",
    "    def initialize(params_rng):\n",
    "        variables = model.init(\n",
    "            params_rng,\n",
    "            graph,\n",
    "        )\n",
    "        return variables\n",
    "\n",
    "    variables = initialize(rngs)\n",
    "    state = train_state.TrainState.create(apply_fn=model.apply, params=variables[\"params\"], tx=tx)\n",
    "\n",
    "    param_count = sum(x.size for x in jax.tree_util.tree_leaves(state.params))\n",
    "    print(\"---> number of model parameters: \", param_count)\n",
    "    return state"
   ]
  },
  {
   "cell_type": "code",
   "execution_count": 75,
   "metadata": {},
   "outputs": [
    {
     "name": "stdout",
     "output_type": "stream",
     "text": [
      "---> number of model parameters:  18027\n"
     ]
    }
   ],
   "source": [
    "# Initialize model, train state, and other hparams\n",
    "optimizer = optax.adam(learning_rate=0.0001)\n",
    "rng = jax.random.PRNGKey(0)\n",
    "rng, init_rng = jax.random.split(rng)\n",
    "rngs = {\"params\": rng, \"dropout\": init_rng}\n",
    "\n",
    "model = GraphConvLayer(\n",
    "    output_decoder_dim = 1,\n",
    "    attention_logit_fn=lambda n: MLP(features=[64, 1])(n),\n",
    "    update_node_fn=lambda n: MLP(features=[64, 64])(n),\n",
    "    aggregate_nodes_fn=jax.ops.segment_sum,\n",
    "    add_self_edges=True,\n",
    "    layer_norm=True,\n",
    "    symmetric_normalization=True,\n",
    "    num_user_nodes=graph.globals['num_users'],\n",
    ")\n",
    "\n",
    "state = create_train_state(\n",
    "    model=model,\n",
    "    graph=graph,\n",
    "    tx=optimizer,\n",
    "    rngs=rngs,\n",
    ")"
   ]
  },
  {
   "cell_type": "markdown",
   "metadata": {},
   "source": [
    "As you can see our model has 18027 parameters. You can play with this by changing model hyper-parameters. Next, we will define train and evaluation steps and train the model."
   ]
  },
  {
   "cell_type": "markdown",
   "metadata": {},
   "source": [
    "##### Training Step Function\n",
    "\n",
    "This function defines a single training step for our graph neural network. It takes the current training state, the graph data, labels, a mask to focus loss calculation on specific data set (e.g. train set), and random number generators useful for reproducibity. The function calculates gradients based on the loss, updates the model parameters, and returns the new state along with the loss and logits.\n"
   ]
  },
  {
   "cell_type": "code",
   "execution_count": 76,
   "metadata": {},
   "outputs": [],
   "source": [
    "# @title Train step\n",
    "@jax.jit\n",
    "def train_step(\n",
    "    state: train_state.TrainState,\n",
    "    graph: jnp.array,\n",
    "    labels: jnp.ndarray,\n",
    "    mask: jnp.ndarray,\n",
    "    rngs: dict,\n",
    ") -> Tuple[train_state.TrainState, tuple]:\n",
    "    \"\"\"Performs one update step over the graph.\n",
    "\n",
    "    Args:\n",
    "        state: training state.\n",
    "        graph: graph node features.\n",
    "        labels: graph edge labels.\n",
    "        mask: mask for labels to consider for optimization\n",
    "        rngs: rngs for droupout\n",
    "\n",
    "    Returns:\n",
    "        Current training state, the loss, and logits.\n",
    "    \"\"\"\n",
    "    step = state.step\n",
    "    rngs = {name: jax.random.fold_in(rng, step) for name, rng in rngs.items()}\n",
    "\n",
    "    def loss_fn(params, graph, labels):\n",
    "        # Compute logits and resulting loss.\n",
    "        variables = {\"params\": params}\n",
    "        logits = state.apply_fn(\n",
    "            variables,\n",
    "            graph=graph,\n",
    "            rngs=rngs,\n",
    "        )\n",
    "        loss = l1_loss(logits=logits, y=labels, mask=mask)\n",
    "        return loss, logits\n",
    "\n",
    "    grad_fn = jax.value_and_grad(loss_fn, has_aux=True)\n",
    "    (loss, logits), grads = grad_fn(state.params, graph, labels)\n",
    "    new_state = state.apply_gradients(grads=grads)\n",
    "    return new_state, (loss, logits)\n"
   ]
  },
  {
   "cell_type": "code",
   "execution_count": 77,
   "metadata": {},
   "outputs": [],
   "source": [
    "# @title Evaluation step\n",
    "@jax.jit\n",
    "def evaluate_step(\n",
    "    state: train_state.TrainState,\n",
    "    graph: jnp.array,\n",
    "    labels: jnp.ndarray,\n",
    "    mask: jnp.ndarray,\n",
    "    dropout_rng: dict = None,\n",
    ") -> tuple:\n",
    "    \"\"\"Performs evaluation step over a set of inputs.\"\"\"\n",
    "    variables = {\"params\": state.params}\n",
    "    logits = state.apply_fn(\n",
    "        variables,\n",
    "        graph=graph,\n",
    "        rngs=dropout_rng,\n",
    "    )\n",
    "    loss = l1_loss(logits=logits, y=labels, mask=mask)\n",
    "    return (loss, logits)"
   ]
  },
  {
   "cell_type": "markdown",
   "metadata": {},
   "source": [
    "##### Evaluation Step Function\n",
    "\n",
    "This function performs an evaluation step, applying the trained model to the provided graph data to compute predictions (logits) and calculate the loss. It uses the current model state, the graph structure, edge labels, and the corresponding mask.\n"
   ]
  },
  {
   "cell_type": "code",
   "execution_count": 78,
   "metadata": {},
   "outputs": [],
   "source": [
    "# @title Train loop function\n",
    "def train_eval(state, graph, train_mask, val_mask, rng, epochs = 10):\n",
    "    final_train_loss = []\n",
    "    final_val_loss = []\n",
    "    for epoch in range(epochs):\n",
    "        rng, epoch_rng = jax.random.split(rng)\n",
    "        epoch_rng = {\"dropout\": epoch_rng}\n",
    "\n",
    "        state, (train_loss, train_logits) = train_step(state=state, graph=graph, labels=graph.edges, mask=train_mask, rngs = epoch_rng)\n",
    "        val_loss, val_logits = evaluate_step(state=state, graph=graph, mask=val_mask, labels=graph.edges)\n",
    "        print(f\"Epoch: {epoch}, train_loss: {train_loss}, val_loss: {val_loss}\")\n",
    "        final_train_loss.append(train_loss.item())\n",
    "        final_val_loss.append(val_loss.item())\n",
    "\n",
    "    return (state, final_train_loss, final_val_loss)"
   ]
  },
  {
   "cell_type": "code",
   "execution_count": 79,
   "metadata": {},
   "outputs": [
    {
     "name": "stdout",
     "output_type": "stream",
     "text": [
      "Epoch: 0, train_loss: 0.37723132967948914, val_loss: 0.37551289796829224\n",
      "Epoch: 1, train_loss: 0.37708917260169983, val_loss: 0.40761083364486694\n",
      "Epoch: 2, train_loss: 0.4096571207046509, val_loss: 0.37838706374168396\n",
      "Epoch: 3, train_loss: 0.3799743354320526, val_loss: 0.3733259439468384\n",
      "Epoch: 4, train_loss: 0.3748554289340973, val_loss: 0.3698759973049164\n",
      "Epoch: 5, train_loss: 0.3712851405143738, val_loss: 0.3665546178817749\n",
      "Epoch: 6, train_loss: 0.36783841252326965, val_loss: 0.36333733797073364\n",
      "Epoch: 7, train_loss: 0.3644704520702362, val_loss: 0.3603000044822693\n",
      "Epoch: 8, train_loss: 0.36129793524742126, val_loss: 0.35758596658706665\n",
      "Epoch: 9, train_loss: 0.35849159955978394, val_loss: 0.35518988966941833\n",
      "Epoch: 10, train_loss: 0.3559902310371399, val_loss: 0.3531499207019806\n",
      "Epoch: 11, train_loss: 0.3538585305213928, val_loss: 0.3515489399433136\n",
      "Epoch: 12, train_loss: 0.3521580100059509, val_loss: 0.35041436553001404\n",
      "Epoch: 13, train_loss: 0.35090866684913635, val_loss: 0.3497350513935089\n",
      "Epoch: 14, train_loss: 0.3500927984714508, val_loss: 0.34942829608917236\n",
      "Epoch: 15, train_loss: 0.3496352434158325, val_loss: 0.3493776321411133\n",
      "Epoch: 16, train_loss: 0.34945419430732727, val_loss: 0.34947171807289124\n",
      "Epoch: 17, train_loss: 0.3494384288787842, val_loss: 0.3496168851852417\n",
      "Epoch: 18, train_loss: 0.34949547052383423, val_loss: 0.34974631667137146\n",
      "Epoch: 19, train_loss: 0.34955164790153503, val_loss: 0.34971484541893005\n",
      "Epoch: 20, train_loss: 0.3494812250137329, val_loss: 0.3495716452598572\n",
      "Epoch: 21, train_loss: 0.34931549429893494, val_loss: 0.3493177592754364\n",
      "Epoch: 22, train_loss: 0.3490535616874695, val_loss: 0.34894415736198425\n",
      "Epoch: 23, train_loss: 0.3486863076686859, val_loss: 0.3484537899494171\n",
      "Epoch: 24, train_loss: 0.34821617603302, val_loss: 0.3478783071041107\n",
      "Epoch: 25, train_loss: 0.34766751527786255, val_loss: 0.347258597612381\n",
      "Epoch: 26, train_loss: 0.3470841646194458, val_loss: 0.3466154932975769\n",
      "Epoch: 27, train_loss: 0.34648334980010986, val_loss: 0.34597158432006836\n",
      "Epoch: 28, train_loss: 0.3458859920501709, val_loss: 0.3453478217124939\n",
      "Epoch: 29, train_loss: 0.34530869126319885, val_loss: 0.3447592258453369\n",
      "Epoch: 30, train_loss: 0.34477129578590393, val_loss: 0.34423401951789856\n",
      "Epoch: 31, train_loss: 0.3442941904067993, val_loss: 0.3437643349170685\n",
      "Epoch: 32, train_loss: 0.34386685490608215, val_loss: 0.3433455526828766\n",
      "Epoch: 33, train_loss: 0.3434813916683197, val_loss: 0.3429718017578125\n",
      "Epoch: 34, train_loss: 0.3431343734264374, val_loss: 0.3426346182823181\n",
      "Epoch: 35, train_loss: 0.34281986951828003, val_loss: 0.3423232436180115\n",
      "Epoch: 36, train_loss: 0.34252694249153137, val_loss: 0.34202128648757935\n",
      "Epoch: 37, train_loss: 0.34223902225494385, val_loss: 0.3417246341705322\n",
      "Epoch: 38, train_loss: 0.3419508635997772, val_loss: 0.34142544865608215\n",
      "Epoch: 39, train_loss: 0.3416542410850525, val_loss: 0.34111514687538147\n",
      "Epoch: 40, train_loss: 0.34134235978126526, val_loss: 0.3407815396785736\n",
      "Epoch: 41, train_loss: 0.3410036563873291, val_loss: 0.34043699502944946\n",
      "Epoch: 42, train_loss: 0.34065085649490356, val_loss: 0.3400970995426178\n",
      "Epoch: 43, train_loss: 0.34029796719551086, val_loss: 0.3397669792175293\n",
      "Epoch: 44, train_loss: 0.3399539291858673, val_loss: 0.33944737911224365\n",
      "Epoch: 45, train_loss: 0.3396209180355072, val_loss: 0.33913829922676086\n",
      "Epoch: 46, train_loss: 0.33930131793022156, val_loss: 0.3388045132160187\n",
      "Epoch: 47, train_loss: 0.338961124420166, val_loss: 0.33833882212638855\n",
      "Epoch: 48, train_loss: 0.3384900689125061, val_loss: 0.33786889910697937\n",
      "Epoch: 49, train_loss: 0.33801135420799255, val_loss: 0.33742597699165344\n",
      "Epoch: 50, train_loss: 0.3375566899776459, val_loss: 0.33702144026756287\n",
      "Epoch: 51, train_loss: 0.33713722229003906, val_loss: 0.33662867546081543\n",
      "Epoch: 52, train_loss: 0.3367302715778351, val_loss: 0.336230605840683\n",
      "Epoch: 53, train_loss: 0.3363194167613983, val_loss: 0.33587542176246643\n",
      "Epoch: 54, train_loss: 0.33595019578933716, val_loss: 0.3355792760848999\n",
      "Epoch: 55, train_loss: 0.3356381356716156, val_loss: 0.33533066511154175\n",
      "Epoch: 56, train_loss: 0.3353691101074219, val_loss: 0.33511367440223694\n",
      "Epoch: 57, train_loss: 0.33513009548187256, val_loss: 0.3349144160747528\n",
      "Epoch: 58, train_loss: 0.33490729331970215, val_loss: 0.33471837639808655\n",
      "Epoch: 59, train_loss: 0.3346893787384033, val_loss: 0.3345181941986084\n",
      "Epoch: 60, train_loss: 0.3344704508781433, val_loss: 0.3343091607093811\n",
      "Epoch: 61, train_loss: 0.3342474699020386, val_loss: 0.33408695459365845\n",
      "Epoch: 62, train_loss: 0.33401790261268616, val_loss: 0.3338530957698822\n",
      "Epoch: 63, train_loss: 0.3337796628475189, val_loss: 0.3336075246334076\n",
      "Epoch: 64, train_loss: 0.3335357904434204, val_loss: 0.33335599303245544\n",
      "Epoch: 65, train_loss: 0.333290159702301, val_loss: 0.3331039845943451\n",
      "Epoch: 66, train_loss: 0.3330472409725189, val_loss: 0.3328554332256317\n",
      "Epoch: 67, train_loss: 0.33281001448631287, val_loss: 0.3326118290424347\n",
      "Epoch: 68, train_loss: 0.33258017897605896, val_loss: 0.3323739171028137\n",
      "Epoch: 69, train_loss: 0.33235660195350647, val_loss: 0.3321409523487091\n",
      "Epoch: 70, train_loss: 0.3321384787559509, val_loss: 0.33191293478012085\n",
      "Epoch: 71, train_loss: 0.3319258391857147, val_loss: 0.33168989419937134\n",
      "Epoch: 72, train_loss: 0.33171775937080383, val_loss: 0.33147159218788147\n",
      "Epoch: 73, train_loss: 0.33151349425315857, val_loss: 0.3312584459781647\n",
      "Epoch: 74, train_loss: 0.33131325244903564, val_loss: 0.33104991912841797\n",
      "Epoch: 75, train_loss: 0.3311162292957306, val_loss: 0.33084699511528015\n",
      "Epoch: 76, train_loss: 0.330922931432724, val_loss: 0.330651193857193\n",
      "Epoch: 77, train_loss: 0.3307346701622009, val_loss: 0.33045995235443115\n",
      "Epoch: 78, train_loss: 0.330549418926239, val_loss: 0.3302721083164215\n",
      "Epoch: 79, train_loss: 0.33036595582962036, val_loss: 0.3300867974758148\n",
      "Epoch: 80, train_loss: 0.3301827907562256, val_loss: 0.329903781414032\n",
      "Epoch: 81, train_loss: 0.32999879121780396, val_loss: 0.3297232687473297\n",
      "Epoch: 82, train_loss: 0.3298150897026062, val_loss: 0.32954561710357666\n",
      "Epoch: 83, train_loss: 0.3296329081058502, val_loss: 0.32937091588974\n",
      "Epoch: 84, train_loss: 0.3294532001018524, val_loss: 0.3291989862918854\n",
      "Epoch: 85, train_loss: 0.3292756974697113, val_loss: 0.32902976870536804\n",
      "Epoch: 86, train_loss: 0.32910090684890747, val_loss: 0.3288634419441223\n",
      "Epoch: 87, train_loss: 0.3289291560649872, val_loss: 0.3286997973918915\n",
      "Epoch: 88, train_loss: 0.32876086235046387, val_loss: 0.328538179397583\n",
      "Epoch: 89, train_loss: 0.3285942077636719, val_loss: 0.3283790051937103\n",
      "Epoch: 90, train_loss: 0.328429639339447, val_loss: 0.32822105288505554\n",
      "Epoch: 91, train_loss: 0.32826754450798035, val_loss: 0.3280646502971649\n",
      "Epoch: 92, train_loss: 0.32810720801353455, val_loss: 0.327909916639328\n",
      "Epoch: 93, train_loss: 0.3279492259025574, val_loss: 0.32775604724884033\n",
      "Epoch: 94, train_loss: 0.3277932405471802, val_loss: 0.32760271430015564\n",
      "Epoch: 95, train_loss: 0.32763850688934326, val_loss: 0.3274504840373993\n",
      "Epoch: 96, train_loss: 0.3274853527545929, val_loss: 0.3272996246814728\n",
      "Epoch: 97, train_loss: 0.32733291387557983, val_loss: 0.3271504342556\n",
      "Epoch: 98, train_loss: 0.32718226313591003, val_loss: 0.32700222730636597\n",
      "Epoch: 99, train_loss: 0.32703322172164917, val_loss: 0.32685452699661255\n"
     ]
    }
   ],
   "source": [
    "# train the model\n",
    "epochs = 100\n",
    "final_state, final_train_loss, final_val_loss = train_eval(state=state, graph=graph, train_mask=train_mask, val_mask=val_mask, rng=rng, epochs = epochs)"
   ]
  },
  {
   "cell_type": "code",
   "execution_count": 80,
   "metadata": {},
   "outputs": [
    {
     "data": {
      "image/png": "[encoded data removed]",
      "text/plain": [
       "<Figure size 1000x600 with 1 Axes>"
      ]
     },
     "metadata": {},
     "output_type": "display_data"
    }
   ],
   "source": [
    "# Plotting losses\n",
    "plt.figure(figsize=(10, 6))\n",
    "plt.plot(range(epochs), final_train_loss, label=\"Train Loss\", marker='o')\n",
    "plt.plot(range(epochs), final_val_loss, label=\"Validation Loss\", marker='*')\n",
    "plt.title(\"Training and Validation Loss\")\n",
    "plt.xlabel(\"Epochs\")\n",
    "plt.ylabel(\"Loss\")\n",
    "plt.legend()\n",
    "plt.grid(True)\n",
    "plt.tight_layout()\n",
    "plt.show()"
   ]
  },
  {
   "cell_type": "markdown",
   "metadata": {},
   "source": [
    "#### **2. Inference**\n",
    "\n",
    "In this section, we will show how we can extract top N movies recommened for a specific user based on the trained GNN. Since we already have a test set edges via test_mask. We will use this to demonstrate the inference."
   ]
  },
  {
   "cell_type": "markdown",
   "metadata": {},
   "source": [
    "Predict the ratings using the trained model and get rating for test set"
   ]
  },
  {
   "cell_type": "code",
   "execution_count": 81,
   "metadata": {},
   "outputs": [],
   "source": [
    "_, logits = evaluate_step(final_state, graph, labels=graph.edges, mask=test_mask)\n",
    "predicted_ratings = np.array(logits[test_mask])"
   ]
  },
  {
   "cell_type": "markdown",
   "metadata": {},
   "source": [
    "Next, let us extract the test set's user IDs and movie IDs from the edge_index. "
   ]
  },
  {
   "cell_type": "code",
   "execution_count": 82,
   "metadata": {},
   "outputs": [],
   "source": [
    "user_ids = data.edge_index[0][data.test_mask[:, 0]].numpy()\n",
    "movie_ids = data.edge_index[1][data.test_mask[:, 0]].numpy()"
   ]
  },
  {
   "cell_type": "markdown",
   "metadata": {},
   "source": [
    "Let us create a simple dataframe that contains the user IDs, and corresponding movie title and rating."
   ]
  },
  {
   "cell_type": "code",
   "execution_count": 83,
   "metadata": {},
   "outputs": [
    {
     "data": {
      "text/html": [
       "<div>\n",
       "<style scoped>\n",
       "    .dataframe tbody tr th:only-of-type {\n",
       "        vertical-align: middle;\n",
       "    }\n",
       "\n",
       "    .dataframe tbody tr th {\n",
       "        vertical-align: top;\n",
       "    }\n",
       "\n",
       "    .dataframe thead th {\n",
       "        text-align: right;\n",
       "    }\n",
       "</style>\n",
       "<table border=\"1\" class=\"dataframe\">\n",
       "  <thead>\n",
       "    <tr style=\"text-align: right;\">\n",
       "      <th></th>\n",
       "      <th>user_id</th>\n",
       "      <th>movie_title</th>\n",
       "      <th>predicted_rating</th>\n",
       "    </tr>\n",
       "  </thead>\n",
       "  <tbody>\n",
       "    <tr>\n",
       "      <th>0</th>\n",
       "      <td>1</td>\n",
       "      <td>Sleeping Beauty (1959)</td>\n",
       "      <td>3.592</td>\n",
       "    </tr>\n",
       "    <tr>\n",
       "      <th>1</th>\n",
       "      <td>3</td>\n",
       "      <td>Godfather: Part II, The (1974)</td>\n",
       "      <td>3.215</td>\n",
       "    </tr>\n",
       "    <tr>\n",
       "      <th>2</th>\n",
       "      <td>12</td>\n",
       "      <td>Enemy (2013)</td>\n",
       "      <td>4.488</td>\n",
       "    </tr>\n",
       "    <tr>\n",
       "      <th>3</th>\n",
       "      <td>14</td>\n",
       "      <td>P.S. I Love You (2007)</td>\n",
       "      <td>3.497</td>\n",
       "    </tr>\n",
       "    <tr>\n",
       "      <th>4</th>\n",
       "      <td>32</td>\n",
       "      <td>Made (2001)</td>\n",
       "      <td>3.465</td>\n",
       "    </tr>\n",
       "  </tbody>\n",
       "</table>\n",
       "</div>"
      ],
      "text/plain": [
       "   user_id                     movie_title  predicted_rating\n",
       "0        1          Sleeping Beauty (1959)             3.592\n",
       "1        3  Godfather: Part II, The (1974)             3.215\n",
       "2       12                    Enemy (2013)             4.488\n",
       "3       14          P.S. I Love You (2007)             3.497\n",
       "4       32                     Made (2001)             3.465"
      ]
     },
     "execution_count": 83,
     "metadata": {},
     "output_type": "execute_result"
    }
   ],
   "source": [
    "# Map movie IDs to titles\n",
    "movie_titles = [data.movie_id_to_title.get(movie_id) for movie_id in movie_ids]\n",
    "\n",
    "predicted_ratings_df = pd.DataFrame({\n",
    "    'user_id': user_ids,\n",
    "    'movie_title': movie_titles,\n",
    "    'predicted_rating': np.round(predicted_ratings, 3)\n",
    "})\n",
    "\n",
    "predicted_ratings_df.head()"
   ]
  },
  {
   "cell_type": "code",
   "execution_count": 84,
   "metadata": {},
   "outputs": [
    {
     "name": "stdout",
     "output_type": "stream",
     "text": [
      "Top 6 movies recommended for user ID: 600 are: \n",
      "0: House (1986)\n",
      "1: Star Wars: Episode III - Revenge of the Sith (2005)\n",
      "2: Rare Exports: A Christmas Tale (Rare Exports) (2010)\n",
      "3: Black Panther (2017)\n",
      "4: Romy and Michele's High School Reunion (1997)\n",
      "5: Barb Wire (1996)\n"
     ]
    }
   ],
   "source": [
    "# Get the top N recommended movies for a user.\n",
    "\n",
    "user_id = 600\n",
    "assert user_id in set(user_ids), f\"the user ID doesn't exist, please select from existing user IDs: {user_ids}\"\n",
    "N = 10\n",
    "\n",
    "top_movies = predicted_ratings_df[predicted_ratings_df['user_id'] == user_id].sort_values(by='predicted_rating', ascending=False).head(N)\n",
    "top_N = top_movies['movie_title'].tolist()\n",
    "\n",
    "print(f'Top {len(top_N)} movies recommended for user ID: {user_id} are: ')\n",
    "\n",
    "for number, movie_title in enumerate(top_N):\n",
    "    print(f'{number}: {movie_title}')"
   ]
  },
  {
   "cell_type": "code",
   "execution_count": null,
   "metadata": {},
   "outputs": [],
   "source": []
  }
 ],
 "metadata": {
  "kernelspec": {
   "display_name": "indaba_prac",
   "language": "python",
   "name": "python3"
  },
  "language_info": {
   "codemirror_mode": {
    "name": "ipython",
    "version": 3
   },
   "file_extension": ".py",
   "mimetype": "text/x-python",
   "name": "python",
   "nbconvert_exporter": "python",
   "pygments_lexer": "ipython3",
   "version": "3.9.17"
  }
 },
 "nbformat": 4,
 "nbformat_minor": 2
}
